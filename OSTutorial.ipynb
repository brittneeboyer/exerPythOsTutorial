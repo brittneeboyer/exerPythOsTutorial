{
 "cells": [
  {
   "cell_type": "code",
   "execution_count": null,
   "source": [
    "import os\n",
    "print(dir(os))\n",
    "print(os.getcwd())"
   ],
   "outputs": [],
   "metadata": {}
  },
  {
   "cell_type": "code",
   "execution_count": null,
   "source": [
    "os.chdir('/Users/brittneewestra/Documents/UoU Fall 2021/CompSci/Week2')\n",
    "print(os.getcwd())\n",
    "print(os.listdir())\n",
    "os.mkdir('Os-Demo-2')\n",
    "os.makedirs('Os-Demo-2/Sub-Dir-1')\n",
    "print(os.listdir())"
   ],
   "outputs": [],
   "metadata": {}
  },
  {
   "cell_type": "code",
   "execution_count": null,
   "source": [
    "os.removedirs('Os-Demo-2/Sub-Dir-1')\n",
    "print(os.listdir())"
   ],
   "outputs": [],
   "metadata": {}
  },
  {
   "cell_type": "code",
   "execution_count": null,
   "source": [
    "os.chdir('/Users/brittneewestra/Documents/UoU Fall 2021/CompSci/Week2/exerPythOsTutorial')\n",
    "print(os.listdir())\n",
    "os.rename('README.md', 'MyFile.md')"
   ],
   "outputs": [],
   "metadata": {}
  },
  {
   "cell_type": "code",
   "execution_count": null,
   "source": [
    "print(os.stat('MyFile.md'))\n",
    "from datetime import datetime\n",
    "mod_time = os.stat('MyFile.md').st_mtime\n",
    "print(datetime.fromtimestamp(mod_time))"
   ],
   "outputs": [],
   "metadata": {}
  },
  {
   "cell_type": "code",
   "execution_count": null,
   "source": [
    "for dirpath, dirnames, filenames in os.walk('/Users/brittneewestra/Documents/UoU Fall 2021/CompSci/Week2/exerPythOsTutorial'):\n",
    "    print('Current Path:', dirpath)\n",
    "    print('Directories:', dirnames)\n",
    "    print('Files:', filenames)\n",
    "    print()"
   ],
   "outputs": [],
   "metadata": {}
  },
  {
   "cell_type": "code",
   "execution_count": null,
   "source": [
    "print(os.environ.get('HOME'))\n",
    "file_path = os.path.join(os.environ.get('HOME') + 'test.txt')\n",
    "print(file_path)\n",
    "\n",
    "print(os.path.basename('/tmp/test.txt'))\n",
    "print(os.path.dirname('/tmp/test.txt'))\n",
    "print(os.path.split('/tmp/test.txt'))\n",
    "print(os.path.exists('/tmp/test.txt'))\n",
    "print(os.path.isdir('/tmp/test.txt'))\n",
    "print(os.path.isfile('/tmp/test.txt'))\n",
    "print(os.path.splitext('/tmp/test.txt'))"
   ],
   "outputs": [],
   "metadata": {}
  },
  {
   "cell_type": "code",
   "execution_count": null,
   "source": [
    "# Official Python documentation: https://docs.python.org/3/\n",
    "# Python OS module tutorial: https://docs.python.org/3/library/os.html?highlight=os#module-os"
   ],
   "outputs": [],
   "metadata": {}
  }
 ],
 "metadata": {
  "orig_nbformat": 4,
  "language_info": {
   "name": "python"
  }
 },
 "nbformat": 4,
 "nbformat_minor": 2
}